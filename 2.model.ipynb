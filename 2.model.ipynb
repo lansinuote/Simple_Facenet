{
 "cells": [
  {
   "cell_type": "code",
   "execution_count": 1,
   "id": "5ce7af76",
   "metadata": {},
   "outputs": [
    {
     "data": {
      "text/plain": [
       "torch.Size([2, 5, 15, 15])"
      ]
     },
     "execution_count": 1,
     "metadata": {},
     "output_type": "execute_result"
    }
   ],
   "source": [
    "import torch\n",
    "\n",
    "\n",
    "def BasicConv2d(dim_in, dim_out, kernel_size, stride, padding):\n",
    "    return torch.nn.Sequential(\n",
    "        torch.nn.Conv2d(dim_in,\n",
    "                        dim_out,\n",
    "                        kernel_size=kernel_size,\n",
    "                        stride=stride,\n",
    "                        padding=padding,\n",
    "                        bias=False),\n",
    "        torch.nn.BatchNorm2d(dim_out, eps=0.001, momentum=0.1, affine=True),\n",
    "        torch.nn.ReLU(inplace=False),\n",
    "    )\n",
    "\n",
    "\n",
    "BasicConv2d(3, 5, 3, 1, 1)(torch.randn(2, 3, 15, 15)).shape"
   ]
  },
  {
   "cell_type": "code",
   "execution_count": 2,
   "id": "f470b41b",
   "metadata": {},
   "outputs": [
    {
     "data": {
      "text/plain": [
       "torch.Size([2, 256, 15, 15])"
      ]
     },
     "execution_count": 2,
     "metadata": {},
     "output_type": "execute_result"
    }
   ],
   "source": [
    "class Block35(torch.nn.Module):\n",
    "\n",
    "    def __init__(self):\n",
    "        super().__init__()\n",
    "\n",
    "        self.s0 = BasicConv2d(256, 32, kernel_size=1, stride=1, padding=0)\n",
    "\n",
    "        self.s1 = torch.nn.Sequential(\n",
    "            BasicConv2d(256, 32, kernel_size=1, stride=1, padding=0),\n",
    "            BasicConv2d(32, 32, kernel_size=3, stride=1, padding=1),\n",
    "        )\n",
    "\n",
    "        self.s2 = torch.nn.Sequential(\n",
    "            BasicConv2d(256, 32, kernel_size=1, stride=1, padding=0),\n",
    "            BasicConv2d(32, 32, kernel_size=3, stride=1, padding=1),\n",
    "            BasicConv2d(32, 32, kernel_size=3, stride=1, padding=1),\n",
    "        )\n",
    "\n",
    "        self.cnn = torch.nn.Conv2d(96, 256, kernel_size=1, stride=1, padding=0)\n",
    "        self.act = torch.nn.ReLU(inplace=False)\n",
    "\n",
    "    def forward(self, x):\n",
    "        out = torch.cat((self.s0(x), self.s1(x), self.s2(x)), 1)\n",
    "        out = self.cnn(out)\n",
    "        out = out * 0.17 + x\n",
    "        out = self.act(out)\n",
    "        return out\n",
    "\n",
    "\n",
    "Block35()(torch.randn(2, 256, 15, 15)).shape"
   ]
  },
  {
   "cell_type": "code",
   "execution_count": 3,
   "id": "6d1d2f6f",
   "metadata": {},
   "outputs": [
    {
     "data": {
      "text/plain": [
       "torch.Size([2, 896, 15, 15])"
      ]
     },
     "execution_count": 3,
     "metadata": {},
     "output_type": "execute_result"
    }
   ],
   "source": [
    "class Block17(torch.nn.Module):\n",
    "\n",
    "    def __init__(self):\n",
    "        super().__init__()\n",
    "\n",
    "        self.s0 = BasicConv2d(896, 128, kernel_size=1, stride=1, padding=0)\n",
    "\n",
    "        self.s1 = torch.nn.Sequential(\n",
    "            BasicConv2d(896, 128, kernel_size=1, stride=1, padding=0),\n",
    "            BasicConv2d(128, 128, kernel_size=(1, 7), stride=1,\n",
    "                        padding=(0, 3)),\n",
    "            BasicConv2d(128, 128, kernel_size=(7, 1), stride=1,\n",
    "                        padding=(3, 0)),\n",
    "        )\n",
    "\n",
    "        self.cnn = torch.nn.Conv2d(256,\n",
    "                                   896,\n",
    "                                   kernel_size=1,\n",
    "                                   stride=1,\n",
    "                                   padding=0)\n",
    "        self.act = torch.nn.ReLU(inplace=False)\n",
    "\n",
    "    def forward(self, x):\n",
    "        out = torch.cat((self.s0(x), self.s1(x)), 1)\n",
    "        out = self.cnn(out)\n",
    "        out = out * 0.1 + x\n",
    "        out = self.act(out)\n",
    "        return out\n",
    "\n",
    "\n",
    "Block17()(torch.randn(2, 896, 15, 15)).shape"
   ]
  },
  {
   "cell_type": "code",
   "execution_count": 4,
   "id": "3aad38a6",
   "metadata": {},
   "outputs": [
    {
     "data": {
      "text/plain": [
       "torch.Size([2, 896, 7, 7])"
      ]
     },
     "execution_count": 4,
     "metadata": {},
     "output_type": "execute_result"
    }
   ],
   "source": [
    "class Mixed_6a(torch.nn.Module):\n",
    "\n",
    "    def __init__(self):\n",
    "        super().__init__()\n",
    "\n",
    "        self.s0 = BasicConv2d(256, 384, kernel_size=3, stride=2, padding=0)\n",
    "\n",
    "        self.s1 = torch.nn.Sequential(\n",
    "            BasicConv2d(256, 192, kernel_size=1, stride=1, padding=0),\n",
    "            BasicConv2d(192, 192, kernel_size=3, stride=1, padding=1),\n",
    "            BasicConv2d(192, 256, kernel_size=3, stride=2, padding=0),\n",
    "        )\n",
    "\n",
    "        self.s2 = torch.nn.MaxPool2d(3, stride=2, padding=0)\n",
    "\n",
    "    def forward(self, x):\n",
    "        out = torch.cat((self.s0(x), self.s1(x), self.s2(x)), 1)\n",
    "\n",
    "        return out\n",
    "\n",
    "\n",
    "Mixed_6a()(torch.randn(2, 256, 15, 15)).shape"
   ]
  },
  {
   "cell_type": "code",
   "execution_count": 5,
   "id": "c5f08a3b",
   "metadata": {},
   "outputs": [
    {
     "data": {
      "text/plain": [
       "torch.Size([2, 1792, 7, 7])"
      ]
     },
     "execution_count": 5,
     "metadata": {},
     "output_type": "execute_result"
    }
   ],
   "source": [
    "class Mixed_7a(torch.nn.Module):\n",
    "\n",
    "    def __init__(self):\n",
    "        super().__init__()\n",
    "\n",
    "        self.s0 = torch.nn.Sequential(\n",
    "            BasicConv2d(896, 256, kernel_size=1, stride=1, padding=0),\n",
    "            BasicConv2d(256, 384, kernel_size=3, stride=2, padding=0))\n",
    "\n",
    "        self.s1 = torch.nn.Sequential(\n",
    "            BasicConv2d(896, 256, kernel_size=1, stride=1, padding=0),\n",
    "            BasicConv2d(256, 256, kernel_size=3, stride=2, padding=0))\n",
    "\n",
    "        self.s2 = torch.nn.Sequential(\n",
    "            BasicConv2d(896, 256, kernel_size=1, stride=1, padding=0),\n",
    "            BasicConv2d(256, 256, kernel_size=3, stride=1, padding=1),\n",
    "            BasicConv2d(256, 256, kernel_size=3, stride=2, padding=0))\n",
    "\n",
    "        self.s3 = torch.nn.MaxPool2d(3, stride=2)\n",
    "\n",
    "    def forward(self, x):\n",
    "        out = torch.cat((self.s0(x), self.s1(x), self.s2(x), self.s3(x)), 1)\n",
    "\n",
    "        return out\n",
    "\n",
    "\n",
    "Mixed_7a()(torch.randn(2, 896, 15, 15)).shape"
   ]
  },
  {
   "cell_type": "code",
   "execution_count": 6,
   "id": "aff3dfc1",
   "metadata": {},
   "outputs": [
    {
     "data": {
      "text/plain": [
       "torch.Size([2, 1792, 15, 15])"
      ]
     },
     "execution_count": 6,
     "metadata": {},
     "output_type": "execute_result"
    }
   ],
   "source": [
    "class Block8(torch.nn.Module):\n",
    "\n",
    "    def __init__(self, scale, act):\n",
    "        super().__init__()\n",
    "\n",
    "        self.scale = scale\n",
    "        self.act = act\n",
    "\n",
    "        self.s0 = BasicConv2d(1792, 192, kernel_size=1, stride=1, padding=0)\n",
    "\n",
    "        self.s1 = torch.nn.Sequential(\n",
    "            BasicConv2d(1792, 192, kernel_size=1, stride=1, padding=0),\n",
    "            BasicConv2d(192, 192, kernel_size=(1, 3), stride=1,\n",
    "                        padding=(0, 1)),\n",
    "            BasicConv2d(192, 192, kernel_size=(3, 1), stride=1,\n",
    "                        padding=(1, 0)))\n",
    "\n",
    "        self.cnn = torch.nn.Conv2d(384, 1792, kernel_size=1, stride=1)\n",
    "        if self.act:\n",
    "            self.act = torch.nn.ReLU(inplace=False)\n",
    "\n",
    "    def forward(self, x):\n",
    "        out0 = self.s0(x)\n",
    "        out1 = self.s1(x)\n",
    "        out = torch.cat((out0, out1), 1)\n",
    "        out = self.cnn(out)\n",
    "        out = out * self.scale + x\n",
    "        if self.act:\n",
    "            out = self.act(out)\n",
    "        return out\n",
    "\n",
    "\n",
    "Block8(1.0, True)(torch.randn(2, 1792, 15, 15)).shape"
   ]
  },
  {
   "cell_type": "code",
   "execution_count": 7,
   "id": "04146a0e",
   "metadata": {},
   "outputs": [
    {
     "data": {
      "text/plain": [
       "torch.Size([2, 512])"
      ]
     },
     "execution_count": 7,
     "metadata": {},
     "output_type": "execute_result"
    }
   ],
   "source": [
    "model = torch.nn.Sequential(\n",
    "    BasicConv2d(3, 32, kernel_size=3, stride=2, padding=0),\n",
    "    BasicConv2d(32, 32, kernel_size=3, stride=1, padding=0),\n",
    "    BasicConv2d(32, 64, kernel_size=3, stride=1, padding=1),\n",
    "    torch.nn.MaxPool2d(3, stride=2),\n",
    "    BasicConv2d(64, 80, kernel_size=1, stride=1, padding=0),\n",
    "    BasicConv2d(80, 192, kernel_size=3, stride=1, padding=0),\n",
    "    BasicConv2d(192, 256, kernel_size=3, stride=2, padding=0),\n",
    "    Block35(),\n",
    "    Block35(),\n",
    "    Block35(),\n",
    "    Block35(),\n",
    "    Block35(),\n",
    "    Mixed_6a(),\n",
    "    Block17(),\n",
    "    Block17(),\n",
    "    Block17(),\n",
    "    Block17(),\n",
    "    Block17(),\n",
    "    Block17(),\n",
    "    Block17(),\n",
    "    Block17(),\n",
    "    Block17(),\n",
    "    Block17(),\n",
    "    Mixed_7a(),\n",
    "    Block8(scale=0.2, act=True),\n",
    "    Block8(scale=0.2, act=True),\n",
    "    Block8(scale=0.2, act=True),\n",
    "    Block8(scale=0.2, act=True),\n",
    "    Block8(scale=0.2, act=True),\n",
    "    Block8(scale=1.0, act=False),\n",
    "    torch.nn.AdaptiveAvgPool2d(1),\n",
    "    torch.nn.Dropout(0.6),\n",
    "    torch.nn.Flatten(),\n",
    "    torch.nn.Linear(1792, 512, bias=False),\n",
    "    torch.nn.BatchNorm1d(512, eps=0.001, momentum=0.1, affine=True),\n",
    ")\n",
    "\n",
    "model(torch.randn(2, 3, 160, 160)).shape"
   ]
  },
  {
   "cell_type": "code",
   "execution_count": 8,
   "id": "2940fc6c",
   "metadata": {},
   "outputs": [],
   "source": [
    "# params = torch.load('data/20180402-114759-vggface2.pt')\n",
    "\n",
    "\n",
    "# def load_block(s, prefix):\n",
    "#     s[0].weight.data = params['%s.conv.weight' % prefix]\n",
    "#     s[1].weight.data = params['%s.bn.weight' % prefix]\n",
    "#     s[1].bias.data = params['%s.bn.bias' % prefix]\n",
    "#     s[1].running_mean.bias = params['%s.bn.running_mean' % prefix]\n",
    "#     s[1].running_var.bias = params['%s.bn.running_var' % prefix]\n",
    "#     s[1].num_batches_tracked.bias = params['%s.bn.num_batches_tracked' %\n",
    "#                                            prefix]\n",
    "\n",
    "\n",
    "# def load_cnn(cnn, prefix):\n",
    "#     cnn.weight.data = params['%s.weight' % prefix]\n",
    "#     cnn.bias.data = params['%s.bias' % prefix]\n",
    "\n",
    "\n",
    "# load_block(model[0], 'conv2d_1a')\n",
    "# load_block(model[1], 'conv2d_2a')\n",
    "# load_block(model[2], 'conv2d_2b')\n",
    "# load_block(model[4], 'conv2d_3b')\n",
    "# load_block(model[5], 'conv2d_4a')\n",
    "# load_block(model[6], 'conv2d_4b')\n",
    "\n",
    "# for i in range(5):\n",
    "#     load_block(model[7 + i].s0, 'repeat_1.%d.branch0' % i)\n",
    "#     load_block(model[7 + i].s1[0], 'repeat_1.%d.branch1.0' % i)\n",
    "#     load_block(model[7 + i].s1[1], 'repeat_1.%d.branch1.1' % i)\n",
    "#     load_block(model[7 + i].s2[0], 'repeat_1.%d.branch2.0' % i)\n",
    "#     load_block(model[7 + i].s2[1], 'repeat_1.%d.branch2.1' % i)\n",
    "#     load_block(model[7 + i].s2[2], 'repeat_1.%d.branch2.2' % i)\n",
    "#     load_cnn(model[7 + i].cnn, 'repeat_1.%d.conv2d' % i)\n",
    "\n",
    "# load_block(model[12].s0, 'mixed_6a.branch0')\n",
    "# load_block(model[12].s1[0], 'mixed_6a.branch1.0')\n",
    "# load_block(model[12].s1[1], 'mixed_6a.branch1.1')\n",
    "# load_block(model[12].s1[2], 'mixed_6a.branch1.2')\n",
    "\n",
    "# for i in range(10):\n",
    "#     load_block(model[13 + i].s0, 'repeat_2.%d.branch0' % i)\n",
    "#     load_block(model[13 + i].s1[0], 'repeat_2.%d.branch1.0' % i)\n",
    "#     load_block(model[13 + i].s1[1], 'repeat_2.%d.branch1.1' % i)\n",
    "#     load_block(model[13 + i].s1[2], 'repeat_2.%d.branch1.2' % i)\n",
    "#     load_cnn(model[13 + i].cnn, 'repeat_2.%d.conv2d' % i)\n",
    "\n",
    "# load_block(model[23].s0[0], 'mixed_7a.branch0.0')\n",
    "# load_block(model[23].s0[1], 'mixed_7a.branch0.1')\n",
    "# load_block(model[23].s1[0], 'mixed_7a.branch1.0')\n",
    "# load_block(model[23].s1[1], 'mixed_7a.branch1.1')\n",
    "# load_block(model[23].s2[0], 'mixed_7a.branch2.0')\n",
    "# load_block(model[23].s2[1], 'mixed_7a.branch2.1')\n",
    "# load_block(model[23].s2[2], 'mixed_7a.branch2.2')\n",
    "\n",
    "# for i in range(5):\n",
    "#     load_block(model[24 + i].s0, 'repeat_3.%d.branch0' % i)\n",
    "#     load_block(model[24 + i].s1[0], 'repeat_3.%d.branch1.0' % i)\n",
    "#     load_block(model[24 + i].s1[1], 'repeat_3.%d.branch1.1' % i)\n",
    "#     load_block(model[24 + i].s1[2], 'repeat_3.%d.branch1.2' % i)\n",
    "#     load_cnn(model[24 + i].cnn, 'repeat_3.%d.conv2d' % i)\n",
    "\n",
    "# load_block(model[29].s0, 'block8.branch0')\n",
    "# load_block(model[29].s1[0], 'block8.branch1.0')\n",
    "# load_block(model[29].s1[1], 'block8.branch1.1')\n",
    "# load_block(model[29].s1[2], 'block8.branch1.2')\n",
    "# load_cnn(model[29].cnn, 'block8.conv2d')\n",
    "\n",
    "# model[33].weight.data = params['last_linear.weight']\n",
    "# model[34].weight.data = params['last_bn.weight']\n",
    "# model[34].bias.data = params['last_bn.bias']\n",
    "# model[34].running_mean.data = params['last_bn.running_mean']\n",
    "# model[34].running_var.data = params['last_bn.running_var']\n",
    "# model[34].num_batches_tracked.data = params['last_bn.num_batches_tracked']"
   ]
  },
  {
   "cell_type": "code",
   "execution_count": 9,
   "id": "4d026695",
   "metadata": {},
   "outputs": [
    {
     "data": {
      "application/vnd.jupyter.widget-view+json": {
       "model_id": "61b655bf7daa4e75ac11de3513fffaeb",
       "version_major": 2,
       "version_minor": 0
      },
      "text/plain": [
       "Upload 1 LFS files:   0%|          | 0/1 [00:00<?, ?it/s]"
      ]
     },
     "metadata": {},
     "output_type": "display_data"
    },
    {
     "data": {
      "application/vnd.jupyter.widget-view+json": {
       "model_id": "0132c2718f764c2d96f4485153c67dcd",
       "version_major": 2,
       "version_minor": 0
      },
      "text/plain": [
       "pytorch_model.bin:   0%|          | 0.00/94.5M [00:00<?, ?B/s]"
      ]
     },
     "metadata": {},
     "output_type": "display_data"
    },
    {
     "data": {
      "text/plain": [
       "CommitInfo(commit_url='https://huggingface.co/lansinuote/simple_facenet/commit/d5fb3a858bf539f4e5fc7d35d81ecb8f8eab2c18', commit_message='Upload Facenet', commit_description='', oid='d5fb3a858bf539f4e5fc7d35d81ecb8f8eab2c18', pr_url=None, pr_revision=None, pr_num=None)"
      ]
     },
     "execution_count": 9,
     "metadata": {},
     "output_type": "execute_result"
    }
   ],
   "source": [
    "from transformers import PreTrainedModel, PretrainedConfig\n",
    "\n",
    "\n",
    "#包装类\n",
    "class Facenet(PreTrainedModel):\n",
    "    config_class = PretrainedConfig\n",
    "\n",
    "    def __init__(self, config):\n",
    "        super().__init__(config)\n",
    "        self.s = torch.nn.Sequential(\n",
    "            model,\n",
    "            torch.nn.Linear(512, 105),\n",
    "        )\n",
    "\n",
    "    def forward(self, x):\n",
    "        return self.s(x)\n",
    "\n",
    "\n",
    "# Facenet(PretrainedConfig()).push_to_hub(\n",
    "#     repo_id='lansinuote/simple_facenet',\n",
    "#     token=open('/root/hub_token.txt').read().strip())"
   ]
  }
 ],
 "metadata": {
  "kernelspec": {
   "display_name": "Python [conda env:pt39]",
   "language": "python",
   "name": "conda-env-pt39-py"
  },
  "language_info": {
   "codemirror_mode": {
    "name": "ipython",
    "version": 3
   },
   "file_extension": ".py",
   "mimetype": "text/x-python",
   "name": "python",
   "nbconvert_exporter": "python",
   "pygments_lexer": "ipython3",
   "version": "3.9.13"
  }
 },
 "nbformat": 4,
 "nbformat_minor": 5
}
