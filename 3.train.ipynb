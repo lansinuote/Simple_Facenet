{
 "cells": [
  {
   "cell_type": "code",
   "execution_count": 1,
   "id": "259d063b",
   "metadata": {},
   "outputs": [],
   "source": [
    "labels = [\n",
    "    'gal gadot', 'Jake Mcdorman', 'Keanu Reeves', 'Danielle Panabaker',\n",
    "    'kiernen shipka', 'tom ellis', 'Lindsey Morgan', 'Anthony Mackie',\n",
    "    'Andy Samberg', 'barack obama', 'Katherine Langford', 'Stephen Amell',\n",
    "    'Brenton Thwaites', 'Sarah Wayne Callies', 'Alexandra Daddario',\n",
    "    'Chris Evans', 'Sophie Turner', 'Katharine Mcphee', 'Bill Gates',\n",
    "    'Mark Ruffalo', 'Gwyneth Paltrow', 'Brie Larson', 'Rami Malek',\n",
    "    'Shakira Isabel Mebarak', 'Tuppence Middleton', 'Ben Affleck',\n",
    "    'grant gustin', 'Taylor Swift', 'camila mendes', 'Henry Cavil',\n",
    "    'Ursula Corbero', 'Richard Harmon', 'Madelaine Petsch',\n",
    "    'Leonardo DiCaprio', 'Jessica Barden', 'Tom Hiddleston', 'Pedro Alonso',\n",
    "    'Miley Cyrus', 'Bobby Morley', 'Anne Hathaway', 'Dominic Purcell',\n",
    "    'Chris Hemsworth', 'Krysten Ritter', 'Alvaro Morte', 'Emma Stone',\n",
    "    'Robert De Niro', 'Cristiano Ronaldo', 'Jeremy Renner', 'Avril Lavigne',\n",
    "    'Zoe Saldana', 'Rihanna', 'Jimmy Fallon', 'Nadia Hilker', 'Tom Hardy',\n",
    "    'Morgan Freeman', 'Maisie Williams', 'Dwayne Johnson', 'Irina Shayk',\n",
    "    'Penn Badgley', 'Maria Pedraza', 'Robert Downey Jr', 'Natalie Portman',\n",
    "    'Amanda Crew', 'Marie Avgeropoulos', 'Neil Patrick Harris',\n",
    "    'elizabeth olsen', 'Elizabeth Lail', 'Wentworth Miller', 'barbara palvin',\n",
    "    'Tom Cruise', 'Lionel Messi', 'Natalie Dormer', 'Hugh Jackman',\n",
    "    'Chris Pratt', 'Tom Holland', 'margot robbie', 'alycia dabnem carey',\n",
    "    'Emilia Clarke', 'Eliza Taylor', 'Logan Lerman', 'Jennifer Lawrence',\n",
    "    'Christian Bale', 'scarlett johansson', 'amber heard', 'Zendaya',\n",
    "    'Emma Watson', 'elon musk', 'Alex Lawther', 'Zac Efron', 'Selena Gomez',\n",
    "    'melissa fumero', 'Millie Bobby Brown', 'Jason Momoa', 'Mark Zuckerberg',\n",
    "    'Megan Fox', 'Inbar Lavi', 'Josh Radnor', 'Rebecca Ferguson',\n",
    "    'Brian J. Smith', 'jeff bezos', 'ellen page', 'Adriana Lima',\n",
    "    'Morena Baccarin', 'Johnny Depp', 'Lili Reinhart'\n",
    "]\n",
    "\n",
    "label_to_y = {label: i for i, label in enumerate(labels)}"
   ]
  },
  {
   "cell_type": "code",
   "execution_count": 2,
   "id": "dba4617c",
   "metadata": {},
   "outputs": [
    {
     "name": "stderr",
     "output_type": "stream",
     "text": [
      "Using custom data configuration lansinuote--simple_facenet-c1ad2d9dff6067fe\n",
      "Found cached dataset parquet (/root/.cache/huggingface/datasets/lansinuote___parquet/lansinuote--simple_facenet-c1ad2d9dff6067fe/0.0.0/2a3b91fbd88a2c90d1dbbb32b460cf621d31bd5b05b934492fdef7d8d6f236ec)\n"
     ]
    },
    {
     "data": {
      "application/vnd.jupyter.widget-view+json": {
       "model_id": "1c54582a3be945428e8893e4f0ef1dfc",
       "version_major": 2,
       "version_minor": 0
      },
      "text/plain": [
       "  0%|          | 0/2 [00:00<?, ?it/s]"
      ]
     },
     "metadata": {},
     "output_type": "display_data"
    },
    {
     "data": {
      "text/plain": [
       "(DatasetDict({\n",
       "     train: Dataset({\n",
       "         features: ['image', 'label'],\n",
       "         num_rows: 17334\n",
       "     })\n",
       "     test: Dataset({\n",
       "         features: ['image', 'label'],\n",
       "         num_rows: 200\n",
       "     })\n",
       " }),\n",
       " {'x': tensor([[[-0.6314, -0.6314, -0.6235,  ..., -0.5686, -0.5059, -0.4431],\n",
       "           [-0.6471, -0.6471, -0.6392,  ..., -0.5294, -0.4667, -0.4039],\n",
       "           [-0.6863, -0.6863, -0.6784,  ..., -0.4980, -0.4353, -0.3725],\n",
       "           ...,\n",
       "           [-0.7725, -0.8118, -0.8431,  ...,  0.0745,  0.0745,  0.0667],\n",
       "           [-0.7882, -0.8118, -0.8118,  ...,  0.0588,  0.0588,  0.0510],\n",
       "           [-0.8039, -0.8039, -0.7725,  ...,  0.0510,  0.0510,  0.0510]],\n",
       "  \n",
       "          [[-0.4824, -0.4824, -0.4745,  ...,  0.1137,  0.1843,  0.2471],\n",
       "           [-0.4902, -0.4902, -0.4824,  ...,  0.1373,  0.2078,  0.2706],\n",
       "           [-0.5137, -0.5137, -0.5059,  ...,  0.1529,  0.2314,  0.2941],\n",
       "           ...,\n",
       "           [-0.7961, -0.8353, -0.8667,  ...,  0.0275,  0.0275,  0.0353],\n",
       "           [-0.8118, -0.8353, -0.8353,  ...,  0.0275,  0.0275,  0.0275],\n",
       "           [-0.8275, -0.8275, -0.7961,  ...,  0.0275,  0.0275,  0.0275]],\n",
       "  \n",
       "          [[-0.3647, -0.3647, -0.3569,  ...,  0.2941,  0.3882,  0.4667],\n",
       "           [-0.3804, -0.3804, -0.3725,  ...,  0.3412,  0.4275,  0.4980],\n",
       "           [-0.4039, -0.4039, -0.3961,  ...,  0.3725,  0.4588,  0.5216],\n",
       "           ...,\n",
       "           [-0.8667, -0.9059, -0.9373,  ..., -0.0824, -0.0824, -0.0824],\n",
       "           [-0.8824, -0.9059, -0.9059,  ..., -0.0824, -0.0902, -0.0902],\n",
       "           [-0.8980, -0.8980, -0.8667,  ..., -0.0902, -0.0902, -0.0902]]]),\n",
       "  'y': 72})"
      ]
     },
     "execution_count": 2,
     "metadata": {},
     "output_type": "execute_result"
    }
   ],
   "source": [
    "from datasets import load_dataset\n",
    "import torchvision\n",
    "\n",
    "dataset = load_dataset('lansinuote/simple_facenet')\n",
    "\n",
    "compose = torchvision.transforms.Compose([\n",
    "    torchvision.transforms.Resize(160),\n",
    "    torchvision.transforms.ToTensor(),\n",
    "    lambda x: (x - 0.5) * 2,\n",
    "])\n",
    "\n",
    "\n",
    "def f(data):\n",
    "    x = [compose(i) for i in data['image']]\n",
    "    y = [label_to_y[i] for i in data['label']]\n",
    "    return {'x': x, 'y': y}\n",
    "\n",
    "\n",
    "dataset = dataset.with_transform(f)\n",
    "\n",
    "dataset, dataset['train'][0]"
   ]
  },
  {
   "cell_type": "code",
   "execution_count": 3,
   "id": "a1089e6e",
   "metadata": {
    "scrolled": true
   },
   "outputs": [
    {
     "data": {
      "text/plain": [
       "(542,\n",
       " 7,\n",
       " torch.Size([32, 3, 160, 160]),\n",
       " tensor([ 36,  57,  33,  43,  66,  79,  79,   0,  22,  52,  50,  79,   1, 101,\n",
       "          10,  47,  60,  12,  74,  75,  87,  76,  32,  53,  57,  99,  78,  10,\n",
       "           6,  38,   6,  98]))"
      ]
     },
     "execution_count": 3,
     "metadata": {},
     "output_type": "execute_result"
    }
   ],
   "source": [
    "import torch\n",
    "\n",
    "loader_train = torch.utils.data.DataLoader(\n",
    "    dataset=dataset['train'],\n",
    "    batch_size=32,\n",
    "    collate_fn=None,\n",
    "    shuffle=True,\n",
    "    drop_last=False,\n",
    ")\n",
    "\n",
    "loader_test = torch.utils.data.DataLoader(\n",
    "    dataset=dataset['test'],\n",
    "    batch_size=32,\n",
    "    collate_fn=None,\n",
    "    shuffle=True,\n",
    "    drop_last=False,\n",
    ")\n",
    "\n",
    "data = next(iter(loader_train))\n",
    "\n",
    "len(loader_train), len(loader_test), data['x'].shape, data['y']"
   ]
  },
  {
   "cell_type": "code",
   "execution_count": 4,
   "id": "c3125596",
   "metadata": {},
   "outputs": [
    {
     "data": {
      "text/plain": [
       "2353.6489"
      ]
     },
     "execution_count": 4,
     "metadata": {},
     "output_type": "execute_result"
    }
   ],
   "source": [
    "%run 2.model.ipynb\n",
    "\n",
    "model = Facenet.from_pretrained('lansinuote/simple_facenet')\n",
    "\n",
    "sum(i.numel() for i in model.parameters()) / 10000"
   ]
  },
  {
   "cell_type": "code",
   "execution_count": 5,
   "id": "2b7e39de",
   "metadata": {},
   "outputs": [],
   "source": [
    "def train():\n",
    "    loss_fn = torch.nn.CrossEntropyLoss()\n",
    "    optimizer = torch.optim.Adam(model.parameters(), lr=2e-4)\n",
    "\n",
    "    model.to('cuda')\n",
    "    model.train()\n",
    "\n",
    "    correct = 0\n",
    "    total = 0\n",
    "    for epoch in range(20):\n",
    "        for i, data in enumerate(loader_train):\n",
    "            data['x'] = data['x'].to('cuda')\n",
    "            data['y'] = data['y'].to('cuda')\n",
    "            pred = model(data['x'])\n",
    "\n",
    "            loss = loss_fn(pred, data['y'])\n",
    "            loss.backward()\n",
    "\n",
    "            optimizer.step()\n",
    "            optimizer.zero_grad()\n",
    "\n",
    "            correct += (pred.argmax(dim=1) == data['y']).sum().item()\n",
    "            total += len(data['y'])\n",
    "\n",
    "        print(epoch, loss.item(), correct / total)\n",
    "        correct = 0\n",
    "        total = 0\n",
    "\n",
    "    model.to('cpu').push_to_hub(\n",
    "        repo_id='lansinuote/simple_facenet',\n",
    "        token=open('/root/hub_token.txt').read().strip())\n",
    "\n",
    "\n",
    "#train()"
   ]
  },
  {
   "cell_type": "code",
   "execution_count": 6,
   "id": "fa403881",
   "metadata": {},
   "outputs": [
    {
     "name": "stdout",
     "output_type": "stream",
     "text": [
      "0\n",
      "1\n",
      "2\n",
      "3\n",
      "4\n",
      "5\n",
      "6\n",
      "0.925\n"
     ]
    }
   ],
   "source": [
    "@torch.no_grad()\n",
    "def test():\n",
    "    correct = 0\n",
    "    total = 0\n",
    "\n",
    "    model.to('cpu')\n",
    "    for i, data in enumerate(loader_test):\n",
    "        pred = model(data['x'])\n",
    "\n",
    "        correct += (pred.argmax(dim=1) == data['y']).sum().item()\n",
    "        total += len(data['y'])\n",
    "\n",
    "        print(i)\n",
    "\n",
    "    print(correct / total)\n",
    "\n",
    "\n",
    "test()"
   ]
  }
 ],
 "metadata": {
  "kernelspec": {
   "display_name": "Python [conda env:pt39]",
   "language": "python",
   "name": "conda-env-pt39-py"
  },
  "language_info": {
   "codemirror_mode": {
    "name": "ipython",
    "version": 3
   },
   "file_extension": ".py",
   "mimetype": "text/x-python",
   "name": "python",
   "nbconvert_exporter": "python",
   "pygments_lexer": "ipython3",
   "version": "3.9.13"
  }
 },
 "nbformat": 4,
 "nbformat_minor": 5
}
